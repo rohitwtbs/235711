{
 "cells": [
  {
   "cell_type": "markdown",
   "id": "b1445737",
   "metadata": {},
   "source": [
    "Studying Threadpool executor from https://www.digitalocean.com/community/tutorials/how-to-use-threadpoolexecutor-in-python-3\n",
    "\n",
    "How did i land up here ,\n",
    "i was reading this article rate limiting in python https://akshayranganath.github.io/Rate-Limiting-With-Python/\n",
    "\n",
    "and there it used these threadpool for making some concurrent computations.\n",
    "\n",
    "Let's finish this and then again jump to api rate limiting.\n"
   ]
  },
  {
   "cell_type": "code",
   "execution_count": 3,
   "id": "1b9b1bdc",
   "metadata": {},
   "outputs": [],
   "source": [
    "import requests"
   ]
  },
  {
   "cell_type": "code",
   "execution_count": 2,
   "id": "abca919a",
   "metadata": {
    "collapsed": true
   },
   "outputs": [
    {
     "data": {
      "text/plain": [
       "['ConnectTimeout',\n",
       " 'ConnectionError',\n",
       " 'DependencyWarning',\n",
       " 'FileModeWarning',\n",
       " 'HTTPError',\n",
       " 'JSONDecodeError',\n",
       " 'NullHandler',\n",
       " 'PreparedRequest',\n",
       " 'ReadTimeout',\n",
       " 'Request',\n",
       " 'RequestException',\n",
       " 'RequestsDependencyWarning',\n",
       " 'Response',\n",
       " 'Session',\n",
       " 'Timeout',\n",
       " 'TooManyRedirects',\n",
       " 'URLRequired',\n",
       " '__author__',\n",
       " '__author_email__',\n",
       " '__build__',\n",
       " '__builtins__',\n",
       " '__cached__',\n",
       " '__cake__',\n",
       " '__copyright__',\n",
       " '__description__',\n",
       " '__doc__',\n",
       " '__file__',\n",
       " '__license__',\n",
       " '__loader__',\n",
       " '__name__',\n",
       " '__package__',\n",
       " '__path__',\n",
       " '__spec__',\n",
       " '__title__',\n",
       " '__url__',\n",
       " '__version__',\n",
       " '_check_cryptography',\n",
       " '_internal_utils',\n",
       " 'adapters',\n",
       " 'api',\n",
       " 'auth',\n",
       " 'certs',\n",
       " 'chardet_version',\n",
       " 'charset_normalizer_version',\n",
       " 'check_compatibility',\n",
       " 'codes',\n",
       " 'compat',\n",
       " 'cookies',\n",
       " 'delete',\n",
       " 'exceptions',\n",
       " 'get',\n",
       " 'head',\n",
       " 'hooks',\n",
       " 'logging',\n",
       " 'models',\n",
       " 'options',\n",
       " 'packages',\n",
       " 'patch',\n",
       " 'post',\n",
       " 'put',\n",
       " 'request',\n",
       " 'session',\n",
       " 'sessions',\n",
       " 'ssl',\n",
       " 'status_codes',\n",
       " 'structures',\n",
       " 'urllib3',\n",
       " 'utils',\n",
       " 'warnings']"
      ]
     },
     "execution_count": 2,
     "metadata": {},
     "output_type": "execute_result"
    }
   ],
   "source": [
    "dir(requests)"
   ]
  },
  {
   "cell_type": "markdown",
   "id": "4899c899",
   "metadata": {},
   "source": [
    "lets write a function to make api calls and return if the call succeded"
   ]
  },
  {
   "cell_type": "code",
   "execution_count": 7,
   "id": "cb049f2d",
   "metadata": {},
   "outputs": [],
   "source": [
    "def api_call(url):\n",
    "    result = requests.get(url)\n",
    "#     import pdb\n",
    "#     pdb.set_trace()\n",
    "    print(\"status for api calll \",result.status_code)"
   ]
  },
  {
   "cell_type": "code",
   "execution_count": 4,
   "id": "6d11ec62",
   "metadata": {},
   "outputs": [
    {
     "name": "stdout",
     "output_type": "stream",
     "text": [
      "status for api calll  200\n"
     ]
    }
   ],
   "source": [
    "url = \"https://in.search.yahoo.com/?fr2=inr\"\n",
    "api_call(url)"
   ]
  },
  {
   "cell_type": "code",
   "execution_count": 1,
   "id": "2a515b8b",
   "metadata": {},
   "outputs": [],
   "source": [
    "def api_call(url, timeout = 10):\n",
    "    result = requests.get(url,timeout)\n",
    "#     import pdb\n",
    "#     pdb.set_trace()\n",
    "    print(\"status for api calll \",result.status_code)"
   ]
  },
  {
   "cell_type": "code",
   "execution_count": null,
   "id": "5ee6f8d7",
   "metadata": {},
   "outputs": [],
   "source": []
  }
 ],
 "metadata": {
  "kernelspec": {
   "display_name": "Python 3 (ipykernel)",
   "language": "python",
   "name": "python3"
  },
  "language_info": {
   "codemirror_mode": {
    "name": "ipython",
    "version": 3
   },
   "file_extension": ".py",
   "mimetype": "text/x-python",
   "name": "python",
   "nbconvert_exporter": "python",
   "pygments_lexer": "ipython3",
   "version": "3.7.13"
  }
 },
 "nbformat": 4,
 "nbformat_minor": 5
}
