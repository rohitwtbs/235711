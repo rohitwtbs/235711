{
 "cells": [
  {
   "cell_type": "code",
   "execution_count": null,
   "id": "e199ed6f",
   "metadata": {},
   "outputs": [],
   "source": [
    "Data from SMAP (25/may/2022)"
   ]
  },
  {
   "cell_type": "code",
   "execution_count": null,
   "id": "14866ab3",
   "metadata": {},
   "outputs": [],
   "source": []
  },
  {
   "cell_type": "raw",
   "id": "93cf6020",
   "metadata": {},
   "source": []
  }
 ],
 "metadata": {
  "kernelspec": {
   "display_name": "Python 3 (ipykernel)",
   "language": "python",
   "name": "python3"
  },
  "language_info": {
   "codemirror_mode": {
    "name": "ipython",
    "version": 3
   },
   "file_extension": ".py",
   "mimetype": "text/x-python",
   "name": "python",
   "nbconvert_exporter": "python",
   "pygments_lexer": "ipython3",
   "version": "3.7.13"
  }
 },
 "nbformat": 4,
 "nbformat_minor": 5
}
