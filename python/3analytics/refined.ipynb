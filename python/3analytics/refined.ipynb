{
 "cells": [
  {
   "cell_type": "code",
   "execution_count": null,
   "id": "ccfaf646",
   "metadata": {},
   "outputs": [],
   "source": [
    "import pandas as pd\n",
    "df = pd.read_csv(\"EMA_concat.csv\")\n",
    "\n",
    "def suspect_split_br(row):\n",
    "    global suspect_df\n",
    "    array = (row[\"Suspect/interacting Drug List (Drug Char - Indication PT - Action taken - [Duration - Dose - Route])\"]).split(\"<BR><BR>\")\n",
    "    for data in array:\n",
    "#         print(row[\"EU Local Number\"],data)\n",
    "        local_no = row[\"EU Local Number\"]\n",
    "        series_obj = pd.Series([local_no,data],index=suspect_df.columns)\n",
    "#         print(series_obj)\n",
    "        suspect_df=suspect_df.append(series_obj,ignore_index=True)\n",
    "\n",
    "def split_br(row):\n",
    "    global reaction_df\n",
    "    array = (row[\"Reaction List PT (Duration – Outcome - Seriousness Criteria)\"]).split(\"<BR><BR>\")\n",
    "    for data in array:\n",
    "#         print(row[\"EU Local Number\"],data)\n",
    "        local_no = row[\"EU Local Number\"]\n",
    "        series_obj = pd.Series([local_no,data],index=reaction_df.columns)\n",
    "#         print(series_obj)\n",
    "        reaction_df=reaction_df.append(series_obj,ignore_index=True)\n",
    "\n",
    "suspect_df = pd.DataFrame(columns=[\"EU Local Number\",\"Suspect/interacting Drug List (Drug Char - Indication PT - Action taken - [Duration - Dose - Route])\"])\n",
    "raw_suspect_df = df.filter([\"EU Local Number\",\"Suspect/interacting Drug List (Drug Char - Indication PT - Action taken - [Duration - Dose - Route])\"])\n",
    "raw_suspect_df.apply(suspect_split_br,axis=1)\n",
    "suspect_df.to_csv('suspect.csv')\n",
    "\n",
    "raw_reaction_df = df.filter([\"EU Local Number\",\"Reaction List PT (Duration – Outcome - Seriousness Criteria)\"])\n",
    "reaction_df = pd.DataFrame(columns=[\"EU Local Number\",\"Reaction List\"])\n",
    "raw_reaction_df.apply(split_br,axis=1)\n",
    "\n",
    "patient_df = raw_suspect_df = df.filter([\"EU Local Number\",\"Patient Age Group\",\"Patient Sex\",\"Primary Source Qualification\",\n",
    "                                         \"Primary Source Country for Regulatory Purposes\"])\n",
    "\n",
    "print(\"The datafram with Suspect values\")\n",
    "print(suspect_df)\n",
    "print(\"The datafram with reaction values\")\n",
    "print(reaction_df)\n",
    "print(\"The dataframe with Patient values\")\n",
    "print(patient_df)\n",
    "suspect_df.to_csv('suspect.csv')\n",
    "reaction_df.to_csv('reaction.csv')\n",
    "patient_df.to_csv('patient_df.csv')"
   ]
  }
 ],
 "metadata": {
  "kernelspec": {
   "display_name": "Python 3 (ipykernel)",
   "language": "python",
   "name": "python3"
  },
  "language_info": {
   "codemirror_mode": {
    "name": "ipython",
    "version": 3
   },
   "file_extension": ".py",
   "mimetype": "text/x-python",
   "name": "python",
   "nbconvert_exporter": "python",
   "pygments_lexer": "ipython3",
   "version": "3.7.13"
  }
 },
 "nbformat": 4,
 "nbformat_minor": 5
}
