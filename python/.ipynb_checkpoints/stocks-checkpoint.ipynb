{
 "cells": [
  {
   "cell_type": "code",
   "execution_count": 2,
   "id": "0650b37d-6e59-4e32-a0b7-2c8320b83e1a",
   "metadata": {
    "tags": []
   },
   "outputs": [
    {
     "name": "stdout",
     "output_type": "stream",
     "text": [
      "      Unnamed: 0                       date    open    high     low   close  \\\n",
      "0              0  2021-06-24 09:15:00+05:30  724.00  724.65  710.50  712.75   \n",
      "1              1  2021-06-24 09:20:00+05:30  712.35  715.80  711.40  713.15   \n",
      "2              2  2021-06-24 09:25:00+05:30  713.10  714.70  711.80  714.00   \n",
      "3              3  2021-06-24 09:30:00+05:30  714.25  715.00  708.65  710.65   \n",
      "4              4  2021-06-24 09:35:00+05:30  710.85  710.90  706.40  710.40   \n",
      "...          ...                        ...     ...     ...     ...     ...   \n",
      "1570        1570  2021-07-23 15:05:00+05:30  682.60  682.75  680.10  681.30   \n",
      "1571        1571  2021-07-23 15:10:00+05:30  681.45  681.90  680.50  680.90   \n",
      "1572        1572  2021-07-23 15:15:00+05:30  680.95  681.45  678.85  679.30   \n",
      "1573        1573  2021-07-23 15:20:00+05:30  679.30  679.50  677.25  678.90   \n",
      "1574        1574  2021-07-23 15:25:00+05:30  678.90  679.00  677.70  678.80   \n",
      "\n",
      "       volume  \n",
      "0     1957851  \n",
      "1      777154  \n",
      "2      462022  \n",
      "3      864680  \n",
      "4      914144  \n",
      "...       ...  \n",
      "1570   229629  \n",
      "1571   167450  \n",
      "1572   290605  \n",
      "1573   286524  \n",
      "1574   170478  \n",
      "\n",
      "[1575 rows x 7 columns]\n"
     ]
    }
   ],
   "source": [
    "import pandas as pd\n",
    "data=pd.read_csv('ADANIPORTS.csv')\n",
    "print(data)\n"
   ]
  },
  {
   "cell_type": "code",
   "execution_count": null,
   "id": "02f0cbae-1af9-4b8b-a926-6c49ac0341b2",
   "metadata": {},
   "outputs": [],
   "source": []
  },
  {
   "cell_type": "code",
   "execution_count": 5,
   "id": "555086d0-603f-444c-80a0-189bce94f595",
   "metadata": {
    "tags": []
   },
   "outputs": [
    {
     "data": {
      "text/html": [
       "<div>\n",
       "<style scoped>\n",
       "    .dataframe tbody tr th:only-of-type {\n",
       "        vertical-align: middle;\n",
       "    }\n",
       "\n",
       "    .dataframe tbody tr th {\n",
       "        vertical-align: top;\n",
       "    }\n",
       "\n",
       "    .dataframe thead th {\n",
       "        text-align: right;\n",
       "    }\n",
       "</style>\n",
       "<table border=\"1\" class=\"dataframe\">\n",
       "  <thead>\n",
       "    <tr style=\"text-align: right;\">\n",
       "      <th></th>\n",
       "      <th>Unnamed: 0</th>\n",
       "      <th>date</th>\n",
       "      <th>open</th>\n",
       "      <th>high</th>\n",
       "      <th>low</th>\n",
       "      <th>close</th>\n",
       "      <th>volume</th>\n",
       "    </tr>\n",
       "  </thead>\n",
       "  <tbody>\n",
       "    <tr>\n",
       "      <th>0</th>\n",
       "      <td>0</td>\n",
       "      <td>2021-06-24 09:15:00+05:30</td>\n",
       "      <td>724.00</td>\n",
       "      <td>724.65</td>\n",
       "      <td>710.50</td>\n",
       "      <td>712.75</td>\n",
       "      <td>1957851</td>\n",
       "    </tr>\n",
       "    <tr>\n",
       "      <th>1</th>\n",
       "      <td>1</td>\n",
       "      <td>2021-06-24 09:20:00+05:30</td>\n",
       "      <td>712.35</td>\n",
       "      <td>715.80</td>\n",
       "      <td>711.40</td>\n",
       "      <td>713.15</td>\n",
       "      <td>777154</td>\n",
       "    </tr>\n",
       "    <tr>\n",
       "      <th>2</th>\n",
       "      <td>2</td>\n",
       "      <td>2021-06-24 09:25:00+05:30</td>\n",
       "      <td>713.10</td>\n",
       "      <td>714.70</td>\n",
       "      <td>711.80</td>\n",
       "      <td>714.00</td>\n",
       "      <td>462022</td>\n",
       "    </tr>\n",
       "    <tr>\n",
       "      <th>3</th>\n",
       "      <td>3</td>\n",
       "      <td>2021-06-24 09:30:00+05:30</td>\n",
       "      <td>714.25</td>\n",
       "      <td>715.00</td>\n",
       "      <td>708.65</td>\n",
       "      <td>710.65</td>\n",
       "      <td>864680</td>\n",
       "    </tr>\n",
       "    <tr>\n",
       "      <th>4</th>\n",
       "      <td>4</td>\n",
       "      <td>2021-06-24 09:35:00+05:30</td>\n",
       "      <td>710.85</td>\n",
       "      <td>710.90</td>\n",
       "      <td>706.40</td>\n",
       "      <td>710.40</td>\n",
       "      <td>914144</td>\n",
       "    </tr>\n",
       "    <tr>\n",
       "      <th>...</th>\n",
       "      <td>...</td>\n",
       "      <td>...</td>\n",
       "      <td>...</td>\n",
       "      <td>...</td>\n",
       "      <td>...</td>\n",
       "      <td>...</td>\n",
       "      <td>...</td>\n",
       "    </tr>\n",
       "    <tr>\n",
       "      <th>1570</th>\n",
       "      <td>1570</td>\n",
       "      <td>2021-07-23 15:05:00+05:30</td>\n",
       "      <td>682.60</td>\n",
       "      <td>682.75</td>\n",
       "      <td>680.10</td>\n",
       "      <td>681.30</td>\n",
       "      <td>229629</td>\n",
       "    </tr>\n",
       "    <tr>\n",
       "      <th>1571</th>\n",
       "      <td>1571</td>\n",
       "      <td>2021-07-23 15:10:00+05:30</td>\n",
       "      <td>681.45</td>\n",
       "      <td>681.90</td>\n",
       "      <td>680.50</td>\n",
       "      <td>680.90</td>\n",
       "      <td>167450</td>\n",
       "    </tr>\n",
       "    <tr>\n",
       "      <th>1572</th>\n",
       "      <td>1572</td>\n",
       "      <td>2021-07-23 15:15:00+05:30</td>\n",
       "      <td>680.95</td>\n",
       "      <td>681.45</td>\n",
       "      <td>678.85</td>\n",
       "      <td>679.30</td>\n",
       "      <td>290605</td>\n",
       "    </tr>\n",
       "    <tr>\n",
       "      <th>1573</th>\n",
       "      <td>1573</td>\n",
       "      <td>2021-07-23 15:20:00+05:30</td>\n",
       "      <td>679.30</td>\n",
       "      <td>679.50</td>\n",
       "      <td>677.25</td>\n",
       "      <td>678.90</td>\n",
       "      <td>286524</td>\n",
       "    </tr>\n",
       "    <tr>\n",
       "      <th>1574</th>\n",
       "      <td>1574</td>\n",
       "      <td>2021-07-23 15:25:00+05:30</td>\n",
       "      <td>678.90</td>\n",
       "      <td>679.00</td>\n",
       "      <td>677.70</td>\n",
       "      <td>678.80</td>\n",
       "      <td>170478</td>\n",
       "    </tr>\n",
       "  </tbody>\n",
       "</table>\n",
       "<p>1575 rows × 7 columns</p>\n",
       "</div>"
      ],
      "text/plain": [
       "      Unnamed: 0                       date    open    high     low   close  \\\n",
       "0              0  2021-06-24 09:15:00+05:30  724.00  724.65  710.50  712.75   \n",
       "1              1  2021-06-24 09:20:00+05:30  712.35  715.80  711.40  713.15   \n",
       "2              2  2021-06-24 09:25:00+05:30  713.10  714.70  711.80  714.00   \n",
       "3              3  2021-06-24 09:30:00+05:30  714.25  715.00  708.65  710.65   \n",
       "4              4  2021-06-24 09:35:00+05:30  710.85  710.90  706.40  710.40   \n",
       "...          ...                        ...     ...     ...     ...     ...   \n",
       "1570        1570  2021-07-23 15:05:00+05:30  682.60  682.75  680.10  681.30   \n",
       "1571        1571  2021-07-23 15:10:00+05:30  681.45  681.90  680.50  680.90   \n",
       "1572        1572  2021-07-23 15:15:00+05:30  680.95  681.45  678.85  679.30   \n",
       "1573        1573  2021-07-23 15:20:00+05:30  679.30  679.50  677.25  678.90   \n",
       "1574        1574  2021-07-23 15:25:00+05:30  678.90  679.00  677.70  678.80   \n",
       "\n",
       "       volume  \n",
       "0     1957851  \n",
       "1      777154  \n",
       "2      462022  \n",
       "3      864680  \n",
       "4      914144  \n",
       "...       ...  \n",
       "1570   229629  \n",
       "1571   167450  \n",
       "1572   290605  \n",
       "1573   286524  \n",
       "1574   170478  \n",
       "\n",
       "[1575 rows x 7 columns]"
      ]
     },
     "execution_count": 5,
     "metadata": {},
     "output_type": "execute_result"
    }
   ],
   "source": [
    "import pandas as pd\n",
    "data=pd.read_csv('ADANIPORTS.csv')\n",
    "data"
   ]
  },
  {
   "cell_type": "code",
   "execution_count": 17,
   "id": "42a97c69-2116-4c97-ae23-3f91879e9ab0",
   "metadata": {
    "tags": []
   },
   "outputs": [
    {
     "name": "stdout",
     "output_type": "stream",
     "text": [
      "0 2021-06-24 09:15:00+05:30\n"
     ]
    }
   ],
   "source": [
    "import pandas as pd\n",
    "import datetime\n",
    "data=pd.read_csv('ADANIPORTS.csv')\n",
    "for i, row in data.iterrows():\n",
    "    print(i,row[1])\n",
    "    break\n",
    "    "
   ]
  },
  {
   "cell_type": "code",
   "execution_count": 20,
   "id": "4dc6c72a-e208-4847-aee0-e45b1989d081",
   "metadata": {},
   "outputs": [
    {
     "data": {
      "text/plain": [
       "9"
      ]
     },
     "execution_count": 20,
     "metadata": {},
     "output_type": "execute_result"
    }
   ],
   "source": [
    "import datetime\n",
    "datetime_object = datetime.datetime.strptime('2021-06-24 09:15:00+05:30',\"%Y-%m-%d %H:%M:%S%z\" )\n",
    "datetime_object\n",
    "datetime_object.hour"
   ]
  },
  {
   "cell_type": "code",
   "execution_count": 70,
   "id": "deceea80-ab47-4435-aa1a-1a99891977d6",
   "metadata": {
    "tags": []
   },
   "outputs": [
    {
     "data": {
      "text/html": [
       "<div>\n",
       "<style scoped>\n",
       "    .dataframe tbody tr th:only-of-type {\n",
       "        vertical-align: middle;\n",
       "    }\n",
       "\n",
       "    .dataframe tbody tr th {\n",
       "        vertical-align: top;\n",
       "    }\n",
       "\n",
       "    .dataframe thead th {\n",
       "        text-align: right;\n",
       "    }\n",
       "</style>\n",
       "<table border=\"1\" class=\"dataframe\">\n",
       "  <thead>\n",
       "    <tr style=\"text-align: right;\">\n",
       "      <th></th>\n",
       "    </tr>\n",
       "  </thead>\n",
       "  <tbody>\n",
       "  </tbody>\n",
       "</table>\n",
       "</div>"
      ],
      "text/plain": [
       "Empty DataFrame\n",
       "Columns: []\n",
       "Index: []"
      ]
     },
     "execution_count": 70,
     "metadata": {},
     "output_type": "execute_result"
    }
   ],
   "source": [
    "import pandas as pd\n",
    "import datetime\n",
    "hour_to_filter = 10\n",
    "data=pd.read_csv('ADANIPORTS.csv')\n",
    "filter_dataframe = pd.DataFrame()\n",
    "for i, row in data.iterrows():\n",
    "#     print(i,row)\n",
    "    datetime_object = datetime.datetime.strptime(row[1],\"%Y-%m-%d %H:%M:%S%z\" )\n",
    "    if(datetime_object.hour == hour_to_filter):\n",
    "#         print (i,row)\n",
    "        filter_dataframe.append(row)\n",
    "filter_dataframe"
   ]
  },
  {
   "cell_type": "code",
   "execution_count": 27,
   "id": "f4184de4-9882-4d12-910b-af4ac59d932b",
   "metadata": {
    "tags": []
   },
   "outputs": [],
   "source": [
    "df = pd.DataFrame()"
   ]
  },
  {
   "cell_type": "code",
   "execution_count": 29,
   "id": "53946bbc-f7a3-4cc2-b3de-b909cfdd92f7",
   "metadata": {
    "collapsed": true,
    "jupyter": {
     "outputs_hidden": true
    },
    "tags": []
   },
   "outputs": [
    {
     "data": {
      "text/html": [
       "<div>\n",
       "<style scoped>\n",
       "    .dataframe tbody tr th:only-of-type {\n",
       "        vertical-align: middle;\n",
       "    }\n",
       "\n",
       "    .dataframe tbody tr th {\n",
       "        vertical-align: top;\n",
       "    }\n",
       "\n",
       "    .dataframe thead th {\n",
       "        text-align: right;\n",
       "    }\n",
       "</style>\n",
       "<table border=\"1\" class=\"dataframe\">\n",
       "  <thead>\n",
       "    <tr style=\"text-align: right;\">\n",
       "      <th></th>\n",
       "    </tr>\n",
       "  </thead>\n",
       "  <tbody>\n",
       "  </tbody>\n",
       "</table>\n",
       "</div>"
      ],
      "text/plain": [
       "Empty DataFrame\n",
       "Columns: []\n",
       "Index: []"
      ]
     },
     "execution_count": 29,
     "metadata": {},
     "output_type": "execute_result"
    }
   ],
   "source": [
    "filter_dataframe\n"
   ]
  },
  {
   "cell_type": "code",
   "execution_count": 37,
   "id": "7c7b56a5-7914-4e3d-add3-953ade31efa7",
   "metadata": {},
   "outputs": [],
   "source": [
    "import pandas as pd\n",
    "import datetime\n",
    "hour_to_filter = 10\n",
    "data=pd.read_csv('ADANIPORTS.csv')\n",
    "filter_dataframe = pd.DataFrame()\n",
    "for i, row in data.iterrows():\n",
    "#     print(i,row)\n",
    "    datetime_object = datetime.datetime.strptime(row[1],\"%Y-%m-%d %H:%M:%S%z\" )\n",
    "    if(datetime_object.hour == hour_to_filter):\n",
    "        type(row)\n",
    "#         print (i,row)"
   ]
  },
  {
   "cell_type": "code",
   "execution_count": null,
   "id": "21ef9fda-3621-4c30-948f-fd58937bad99",
   "metadata": {},
   "outputs": [],
   "source": []
  },
  {
   "cell_type": "code",
   "execution_count": 67,
   "id": "9acf032a-1083-4fbd-a48e-2133665bd9f2",
   "metadata": {
    "tags": []
   },
   "outputs": [],
   "source": [
    "import pandas as pd\n",
    "import datetime\n",
    "hour_to_filter = 10\n",
    "data=pd.read_csv('ADANIPORTS.csv')\n",
    "filter_dataframe = pd.DataFrame()\n",
    "for i, row in data.iterrows():\n",
    "    datetime_object = datetime.datetime.strptime(row[1],\"%Y-%m-%d %H:%M:%S%z\" )\n",
    "    if(datetime_object.hour == hour_to_filter):\n",
    "        filter_dataframe = filter_dataframe.append(data.loc[i])\n",
    "filter_dataframe.to_csv('filter.csv')"
   ]
  },
  {
   "cell_type": "code",
   "execution_count": null,
   "id": "ae902ffb-ff04-4a5f-a641-2fdb216315fb",
   "metadata": {},
   "outputs": [],
   "source": []
  },
  {
   "cell_type": "code",
   "execution_count": 50,
   "id": "80df4063-4b77-4375-8e1a-031cd5f95476",
   "metadata": {},
   "outputs": [
    {
     "data": {
      "text/plain": [
       "pandas.core.frame.DataFrame"
      ]
     },
     "execution_count": 50,
     "metadata": {},
     "output_type": "execute_result"
    }
   ],
   "source": [
    "type(filter_dataframe)"
   ]
  },
  {
   "cell_type": "code",
   "execution_count": 53,
   "id": "bf5ea400-857a-4c5b-858c-07c71d350229",
   "metadata": {},
   "outputs": [
    {
     "data": {
      "text/plain": [
       "'2021-06-24 09:30:00+05:30'"
      ]
     },
     "execution_count": 53,
     "metadata": {},
     "output_type": "execute_result"
    }
   ],
   "source": [
    "data.at[3,'date']"
   ]
  },
  {
   "cell_type": "code",
   "execution_count": 61,
   "id": "48c29b06-5e09-4b4b-b0ce-ee1d3ac425ca",
   "metadata": {},
   "outputs": [
    {
     "data": {
      "text/html": [
       "<div>\n",
       "<style scoped>\n",
       "    .dataframe tbody tr th:only-of-type {\n",
       "        vertical-align: middle;\n",
       "    }\n",
       "\n",
       "    .dataframe tbody tr th {\n",
       "        vertical-align: top;\n",
       "    }\n",
       "\n",
       "    .dataframe thead th {\n",
       "        text-align: right;\n",
       "    }\n",
       "</style>\n",
       "<table border=\"1\" class=\"dataframe\">\n",
       "  <thead>\n",
       "    <tr style=\"text-align: right;\">\n",
       "      <th></th>\n",
       "      <th>0</th>\n",
       "      <th>1</th>\n",
       "      <th>2</th>\n",
       "      <th>3</th>\n",
       "    </tr>\n",
       "  </thead>\n",
       "  <tbody>\n",
       "    <tr>\n",
       "      <th>0</th>\n",
       "      <td>5</td>\n",
       "      <td>6</td>\n",
       "      <td>7</td>\n",
       "      <td>8</td>\n",
       "    </tr>\n",
       "  </tbody>\n",
       "</table>\n",
       "</div>"
      ],
      "text/plain": [
       "   0  1  2  3\n",
       "0  5  6  7  8"
      ]
     },
     "execution_count": 61,
     "metadata": {},
     "output_type": "execute_result"
    }
   ],
   "source": [
    "filter_dataframe.append([[5, 6,7, 8]])"
   ]
  },
  {
   "cell_type": "code",
   "execution_count": 63,
   "id": "ab173374-78fd-4233-bc10-6440244fe398",
   "metadata": {},
   "outputs": [
    {
     "data": {
      "text/html": [
       "<div>\n",
       "<style scoped>\n",
       "    .dataframe tbody tr th:only-of-type {\n",
       "        vertical-align: middle;\n",
       "    }\n",
       "\n",
       "    .dataframe tbody tr th {\n",
       "        vertical-align: top;\n",
       "    }\n",
       "\n",
       "    .dataframe thead th {\n",
       "        text-align: right;\n",
       "    }\n",
       "</style>\n",
       "<table border=\"1\" class=\"dataframe\">\n",
       "  <thead>\n",
       "    <tr style=\"text-align: right;\">\n",
       "      <th></th>\n",
       "    </tr>\n",
       "  </thead>\n",
       "  <tbody>\n",
       "  </tbody>\n",
       "</table>\n",
       "</div>"
      ],
      "text/plain": [
       "Empty DataFrame\n",
       "Columns: []\n",
       "Index: []"
      ]
     },
     "execution_count": 63,
     "metadata": {},
     "output_type": "execute_result"
    }
   ],
   "source": [
    "filter_dataframe"
   ]
  },
  {
   "cell_type": "code",
   "execution_count": 64,
   "id": "fe0fa35c-46a9-4898-bc64-f201b5cc2f7e",
   "metadata": {},
   "outputs": [
    {
     "name": "stdout",
     "output_type": "stream",
     "text": [
      "Empty DataFrame\n",
      "Columns: []\n",
      "Index: []\n"
     ]
    }
   ],
   "source": [
    "print(filter_dataframe)"
   ]
  },
  {
   "cell_type": "code",
   "execution_count": 65,
   "id": "f3b886e3-3b7c-4bf1-85da-5428f253fa7d",
   "metadata": {},
   "outputs": [
    {
     "name": "stdout",
     "output_type": "stream",
     "text": [
      "Empty DataFrame\n",
      "Columns: []\n",
      "Index: []\n"
     ]
    }
   ],
   "source": [
    "filter_dataframe.append([[5, 6,7, 8]])\n",
    "print(filter_dataframe)"
   ]
  },
  {
   "cell_type": "code",
   "execution_count": 68,
   "id": "c31d5177-9748-4290-97ed-ce9cf9c41cc6",
   "metadata": {},
   "outputs": [
    {
     "data": {
      "text/html": [
       "<div>\n",
       "<style scoped>\n",
       "    .dataframe tbody tr th:only-of-type {\n",
       "        vertical-align: middle;\n",
       "    }\n",
       "\n",
       "    .dataframe tbody tr th {\n",
       "        vertical-align: top;\n",
       "    }\n",
       "\n",
       "    .dataframe thead th {\n",
       "        text-align: right;\n",
       "    }\n",
       "</style>\n",
       "<table border=\"1\" class=\"dataframe\">\n",
       "  <thead>\n",
       "    <tr style=\"text-align: right;\">\n",
       "      <th></th>\n",
       "      <th>Unnamed: 0</th>\n",
       "      <th>close</th>\n",
       "      <th>date</th>\n",
       "      <th>high</th>\n",
       "      <th>low</th>\n",
       "      <th>open</th>\n",
       "      <th>volume</th>\n",
       "    </tr>\n",
       "  </thead>\n",
       "  <tbody>\n",
       "    <tr>\n",
       "      <th>9</th>\n",
       "      <td>9.0</td>\n",
       "      <td>710.95</td>\n",
       "      <td>2021-06-24 10:00:00+05:30</td>\n",
       "      <td>712.00</td>\n",
       "      <td>709.00</td>\n",
       "      <td>711.55</td>\n",
       "      <td>453923.0</td>\n",
       "    </tr>\n",
       "    <tr>\n",
       "      <th>10</th>\n",
       "      <td>10.0</td>\n",
       "      <td>710.50</td>\n",
       "      <td>2021-06-24 10:05:00+05:30</td>\n",
       "      <td>712.50</td>\n",
       "      <td>710.00</td>\n",
       "      <td>710.65</td>\n",
       "      <td>234069.0</td>\n",
       "    </tr>\n",
       "    <tr>\n",
       "      <th>11</th>\n",
       "      <td>11.0</td>\n",
       "      <td>708.95</td>\n",
       "      <td>2021-06-24 10:10:00+05:30</td>\n",
       "      <td>710.70</td>\n",
       "      <td>708.25</td>\n",
       "      <td>710.25</td>\n",
       "      <td>311430.0</td>\n",
       "    </tr>\n",
       "    <tr>\n",
       "      <th>12</th>\n",
       "      <td>12.0</td>\n",
       "      <td>710.00</td>\n",
       "      <td>2021-06-24 10:15:00+05:30</td>\n",
       "      <td>710.40</td>\n",
       "      <td>708.30</td>\n",
       "      <td>708.60</td>\n",
       "      <td>286477.0</td>\n",
       "    </tr>\n",
       "    <tr>\n",
       "      <th>13</th>\n",
       "      <td>13.0</td>\n",
       "      <td>709.00</td>\n",
       "      <td>2021-06-24 10:20:00+05:30</td>\n",
       "      <td>710.50</td>\n",
       "      <td>708.50</td>\n",
       "      <td>710.35</td>\n",
       "      <td>154520.0</td>\n",
       "    </tr>\n",
       "    <tr>\n",
       "      <th>...</th>\n",
       "      <td>...</td>\n",
       "      <td>...</td>\n",
       "      <td>...</td>\n",
       "      <td>...</td>\n",
       "      <td>...</td>\n",
       "      <td>...</td>\n",
       "      <td>...</td>\n",
       "    </tr>\n",
       "    <tr>\n",
       "      <th>1516</th>\n",
       "      <td>1516.0</td>\n",
       "      <td>682.55</td>\n",
       "      <td>2021-07-23 10:35:00+05:30</td>\n",
       "      <td>684.60</td>\n",
       "      <td>682.25</td>\n",
       "      <td>684.15</td>\n",
       "      <td>73306.0</td>\n",
       "    </tr>\n",
       "    <tr>\n",
       "      <th>1517</th>\n",
       "      <td>1517.0</td>\n",
       "      <td>680.70</td>\n",
       "      <td>2021-07-23 10:40:00+05:30</td>\n",
       "      <td>682.50</td>\n",
       "      <td>680.50</td>\n",
       "      <td>682.50</td>\n",
       "      <td>154672.0</td>\n",
       "    </tr>\n",
       "    <tr>\n",
       "      <th>1518</th>\n",
       "      <td>1518.0</td>\n",
       "      <td>679.40</td>\n",
       "      <td>2021-07-23 10:45:00+05:30</td>\n",
       "      <td>680.75</td>\n",
       "      <td>678.60</td>\n",
       "      <td>680.75</td>\n",
       "      <td>220560.0</td>\n",
       "    </tr>\n",
       "    <tr>\n",
       "      <th>1519</th>\n",
       "      <td>1519.0</td>\n",
       "      <td>679.50</td>\n",
       "      <td>2021-07-23 10:50:00+05:30</td>\n",
       "      <td>679.70</td>\n",
       "      <td>678.25</td>\n",
       "      <td>679.40</td>\n",
       "      <td>96932.0</td>\n",
       "    </tr>\n",
       "    <tr>\n",
       "      <th>1520</th>\n",
       "      <td>1520.0</td>\n",
       "      <td>680.50</td>\n",
       "      <td>2021-07-23 10:55:00+05:30</td>\n",
       "      <td>681.40</td>\n",
       "      <td>679.50</td>\n",
       "      <td>679.50</td>\n",
       "      <td>102654.0</td>\n",
       "    </tr>\n",
       "  </tbody>\n",
       "</table>\n",
       "<p>252 rows × 7 columns</p>\n",
       "</div>"
      ],
      "text/plain": [
       "      Unnamed: 0   close                       date    high     low    open  \\\n",
       "9            9.0  710.95  2021-06-24 10:00:00+05:30  712.00  709.00  711.55   \n",
       "10          10.0  710.50  2021-06-24 10:05:00+05:30  712.50  710.00  710.65   \n",
       "11          11.0  708.95  2021-06-24 10:10:00+05:30  710.70  708.25  710.25   \n",
       "12          12.0  710.00  2021-06-24 10:15:00+05:30  710.40  708.30  708.60   \n",
       "13          13.0  709.00  2021-06-24 10:20:00+05:30  710.50  708.50  710.35   \n",
       "...          ...     ...                        ...     ...     ...     ...   \n",
       "1516      1516.0  682.55  2021-07-23 10:35:00+05:30  684.60  682.25  684.15   \n",
       "1517      1517.0  680.70  2021-07-23 10:40:00+05:30  682.50  680.50  682.50   \n",
       "1518      1518.0  679.40  2021-07-23 10:45:00+05:30  680.75  678.60  680.75   \n",
       "1519      1519.0  679.50  2021-07-23 10:50:00+05:30  679.70  678.25  679.40   \n",
       "1520      1520.0  680.50  2021-07-23 10:55:00+05:30  681.40  679.50  679.50   \n",
       "\n",
       "        volume  \n",
       "9     453923.0  \n",
       "10    234069.0  \n",
       "11    311430.0  \n",
       "12    286477.0  \n",
       "13    154520.0  \n",
       "...        ...  \n",
       "1516   73306.0  \n",
       "1517  154672.0  \n",
       "1518  220560.0  \n",
       "1519   96932.0  \n",
       "1520  102654.0  \n",
       "\n",
       "[252 rows x 7 columns]"
      ]
     },
     "execution_count": 68,
     "metadata": {},
     "output_type": "execute_result"
    }
   ],
   "source": [
    "filter_dataframe"
   ]
  },
  {
   "cell_type": "code",
   "execution_count": 69,
   "id": "b9279b75-8f2e-42aa-8d7a-27c4f48ec28a",
   "metadata": {},
   "outputs": [],
   "source": [
    "import pandas as pd\n",
    "import datetime\n",
    "hour_to_filter = 10\n",
    "data=pd.read_csv('ADANIPORTS.csv')\n",
    "filter_dataframe = pd.DataFrame()\n",
    "for i, row in data.iterrows():\n",
    "    datetime_object = datetime.datetime.strptime(row[1],\"%Y-%m-%d %H:%M:%S%z\" )\n",
    "    if(datetime_object.hour == hour_to_filter):\n",
    "        filter_dataframe = filter_dataframe.append(data.loc[i])\n",
    "filter_dataframe.to_csv('filter.csv')"
   ]
  },
  {
   "cell_type": "code",
   "execution_count": null,
   "id": "a62fae25-3878-4c71-acc8-c7f5b0f2bfb0",
   "metadata": {},
   "outputs": [],
   "source": []
  }
 ],
 "metadata": {
  "kernelspec": {
   "display_name": "Python 3",
   "language": "python",
   "name": "python3"
  },
  "language_info": {
   "codemirror_mode": {
    "name": "ipython",
    "version": 3
   },
   "file_extension": ".py",
   "mimetype": "text/x-python",
   "name": "python",
   "nbconvert_exporter": "python",
   "pygments_lexer": "ipython3",
   "version": "3.8.8"
  }
 },
 "nbformat": 4,
 "nbformat_minor": 5
}
